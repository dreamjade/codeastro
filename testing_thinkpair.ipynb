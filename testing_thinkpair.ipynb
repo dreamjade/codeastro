{
 "cells": [
  {
   "cell_type": "code",
   "execution_count": 3,
   "id": "edb49262-dbf0-4e69-b7b7-c815bb8f3295",
   "metadata": {
    "execution": {
     "iopub.execute_input": "2023-07-13T19:52:30.891129Z",
     "iopub.status.busy": "2023-07-13T19:52:30.890809Z",
     "iopub.status.idle": "2023-07-13T19:52:30.895687Z",
     "shell.execute_reply": "2023-07-13T19:52:30.895238Z",
     "shell.execute_reply.started": "2023-07-13T19:52:30.891115Z"
    },
    "tags": []
   },
   "outputs": [],
   "source": [
    "import numpy as np\n",
    "import matplotlib.pyplot as plt\n",
    "\n",
    "class CompareFitter(object):\n",
    "  \"\"\"\n",
    "  Given timeseries data, computes the sum of squared residuals of a linear fit\n",
    "  and a quadratic fit, selects the better fit, and plots it.\n",
    "\n",
    "  Args:\n",
    "    time (np.array of float): 1D array of times\n",
    "    data (np.array of float): 1D array of corresponding data points\n",
    "  \"\"\"\n",
    "\n",
    "  def __init__(self, time, data):\n",
    "    self.time = time\n",
    "    self.data = data\n",
    "    self.n_points = len(data)\n",
    "\n",
    "    assert len(self.time) == self.n_points, \"time and data must have same length!\"\n",
    "\n",
    "  def fit_line(self):\n",
    "    \"\"\"\n",
    "    Fits a line to the timeseries and computes the sum of squared residuals of\n",
    "    the fit. Uses numpy.polyfit:\n",
    "    https://numpy.org/doc/stable/reference/generated/numpy.polyfit.html\n",
    "    \"\"\"\n",
    "\n",
    "    # self.lin_coeffs is a list of the coefficients of the best fit line\n",
    "    # self.linear_resids is a list of the sum of squared residuals to the best\n",
    "    #   fit line.\n",
    "    self.lin_coeffs, self.linear_resids, _, _, _ = np.polyfit(\n",
    "        self.time, self.data, 1, full=True\n",
    "    )\n",
    "\n",
    "  def fit_quadratic(self):\n",
    "    \"\"\"\n",
    "    Fits a quadratic function to the timeseries and computes the sum of squared\n",
    "    residuals of the fit.\n",
    "    \"\"\"\n",
    "\n",
    "    self.quad_coeffs, self.quadratic_resids, _, _, _ = np.polyfit(\n",
    "        self.time, self.data, 2, full=True\n",
    "    )\n",
    "\n",
    "  def plot_best(self):\n",
    "    \"\"\"\n",
    "    Plots the model with minimum sum of squared residuals.\n",
    "\n",
    "    Uses numpy.poly1d:\n",
    "    https://numpy.org/doc/stable/reference/generated/numpy.poly1d.html\n",
    "    (see \"Examples\" for usage applied here).\n",
    "    \"\"\"\n",
    "\n",
    "    fig, ax = plt.subplots(figsize=(5,5))\n",
    "    ax.scatter(self.time, self.data, color='purple')\n",
    "    ax.set_xlabel('time'); ax.set_ylabel('data')\n",
    "\n",
    "    if self.linear_resids <= self.quadratic_resids:\n",
    "      p = np.poly1d(self.lin_coeffs)\n",
    "      ax.plot(self.time, p(self.time), color='k')\n",
    "    else:\n",
    "      p = np.poly1d(self.quad_coeffs)\n",
    "      ax.plot(self.time, p(self.time), color='k')\n",
    "\n",
    "    return fig, ax"
   ]
  },
  {
   "cell_type": "code",
   "execution_count": 4,
   "id": "c5ec0188-d370-41e8-a667-0d85291a9e1e",
   "metadata": {
    "execution": {
     "iopub.execute_input": "2023-07-13T19:52:32.336858Z",
     "iopub.status.busy": "2023-07-13T19:52:32.336524Z",
     "iopub.status.idle": "2023-07-13T19:52:32.429843Z",
     "shell.execute_reply": "2023-07-13T19:52:32.429412Z",
     "shell.execute_reply.started": "2023-07-13T19:52:32.336845Z"
    },
    "tags": []
   },
   "outputs": [
    {
     "data": {
      "image/png": "[encoded data removed]",
      "text/plain": [
       "<Figure size 360x360 with 1 Axes>"
      ]
     },
     "metadata": {
      "needs_background": "light"
     },
     "output_type": "display_data"
    }
   ],
   "source": [
    "import numpy as np\n",
    "import matplotlib.pyplot as plt\n",
    "\n",
    "def test_compare_fitter():\n",
    "  # Generate some test data.\n",
    "  time = np.linspace(0, 10, 100)\n",
    "  data = 2 * time + 3 + np.random.rand(len(time))\n",
    "\n",
    "  # Create a CompareFitter object.\n",
    "  fitter = CompareFitter(time, data)\n",
    "\n",
    "  # Fit a line and a quadratic to the data.\n",
    "  fitter.fit_line()\n",
    "  fitter.fit_quadratic()\n",
    "\n",
    "  # Plot the best fit.\n",
    "  fig, ax = fitter.plot_best()\n",
    "\n",
    "  # Show the plot.\n",
    "  plt.show()\n",
    "\n",
    "def test_bad_input():\n",
    "  try:\n",
    "    cf = CompareFitter([1, 2, 3], [[1, 2, 3], [4, 5, 6]])\n",
    "  except AssertionError as e:\n",
    "    assert str(e) == \"time and data must have same length!\"\n",
    "\n",
    "def test_nan_input():\n",
    "  time = np.array([1, 2, 3, 4])\n",
    "  data = np.array([1, np.nan, 3, 4])\n",
    "  cf = CompareFitter(time, data)\n",
    "  cf.fit_line()\n",
    "  assert np.isnan(cf.linear_resids)\n",
    "  cf.fit_quadratic()\n",
    "  assert np.isnan(cf.quadratic_resids)\n",
    "\n",
    "if __name__ == '__main__':\n",
    "  test_compare_fitter()\n",
    "  test_bad_input()\n",
    "  test_nan_input()"
   ]
  },
  {
   "cell_type": "code",
   "execution_count": null,
   "id": "77a0efab-03db-49c2-a351-1c2bb8cfa38f",
   "metadata": {},
   "outputs": [],
   "source": []
  }
 ],
 "metadata": {
  "kernelspec": {
   "display_name": "Python 3 (ipykernel)",
   "language": "python",
   "name": "python3"
  },
  "language_info": {
   "codemirror_mode": {
    "name": "ipython",
    "version": 3
   },
   "file_extension": ".py",
   "mimetype": "text/x-python",
   "name": "python",
   "nbconvert_exporter": "python",
   "pygments_lexer": "ipython3",
   "version": "3.11.4"
  }
 },
 "nbformat": 4,
 "nbformat_minor": 5
}
